{
 "cells": [
  {
   "attachments": {},
   "cell_type": "markdown",
   "metadata": {},
   "source": [
    "## Experiment with database on local news"
   ]
  },
  {
   "cell_type": "code",
   "execution_count": 3,
   "metadata": {},
   "outputs": [],
   "source": [
    "import requests\n",
    "import pandas as pd\n",
    "from bs4 import BeautifulSoup"
   ]
  },
  {
   "cell_type": "code",
   "execution_count": 4,
   "metadata": {},
   "outputs": [
    {
     "data": {
      "text/plain": [
       "bs4.BeautifulSoup"
      ]
     },
     "execution_count": 4,
     "metadata": {},
     "output_type": "execute_result"
    }
   ],
   "source": [
    "url = requests.get(\"https://www.projectnewsoasis.com/publications?name=&country=All&city=&field_tax_status_type_value=All&field_pub_underrep_communities_target_id%5B79%5D=79&field_pub_underrep_communities_target_id%5B80%5D=80&field_pub_underrep_communities_target_id%5B84%5D=84&field_pub_underrep_communities_target_id%5B81%5D=81&field_pub_underrep_communities_target_id%5B166%5D=166&years%5Byears%5D=all&sort_by=title&sort_order=ASC&items_per_page=10\").text\n",
    "\n",
    "soup = BeautifulSoup(url)\n",
    "type(soup)"
   ]
  },
  {
   "cell_type": "code",
   "execution_count": null,
   "metadata": {},
   "outputs": [],
   "source": [
    "#Collect individual local news information\n",
    "\n",
    "\n",
    "#Direct to url (https://www.projectnewsoasis.com/publications/ + 'Name of publication')\n",
    "\n",
    "\n",
    "#Web scrape data fields of x, y, z from each url \n",
    "\n",
    "#Create df with column A = publication and proceeding columns are information scraped (e.g. locality, editorial, distribution, financial, etc.)\n",
    "\n",
    "#Analyze dataframe"
   ]
  },
  {
   "cell_type": "code",
   "execution_count": null,
   "metadata": {},
   "outputs": [],
   "source": []
  }
 ],
 "metadata": {
  "kernelspec": {
   "display_name": "Python 3",
   "language": "python",
   "name": "python3"
  },
  "language_info": {
   "codemirror_mode": {
    "name": "ipython",
    "version": 3
   },
   "file_extension": ".py",
   "mimetype": "text/x-python",
   "name": "python",
   "nbconvert_exporter": "python",
   "pygments_lexer": "ipython3",
   "version": "3.10.11"
  },
  "orig_nbformat": 4
 },
 "nbformat": 4,
 "nbformat_minor": 2
}
